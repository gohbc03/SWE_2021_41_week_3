{
  "cells": [
    {
      "cell_type": "markdown",
      "metadata": {
        "id": "TV3Socqg8BVl"
      },
      "source": [
        "## Task\n",
        "- Complete **isHappy** function following the description below\n",
        "\n",
        "### Happy Number\n",
        "Write an algorithm to determine if a number **n** is happy.\n",
        "\n",
        "A **happy number** is a number defined by the following process:\n",
        "\n",
        "* Starting with any positive integer, replace the number by the sum of the squares of its digits.\n",
        "* Repeat the process until the number equals 1 (where it will stay), or it **loops endlessly in a cycle** which does not include 1.\n",
        "* Those numbers for which this process **ends in 1** are happy.\n",
        "\n",
        "Return **true** if n is a happy number, and **false** if not.\n",
        "\n",
        "Constraints:\n",
        "1 <= n <= $2^{31}$ - 1"
      ]
    },
    {
      "cell_type": "code",
      "execution_count": 4,
      "metadata": {
        "colab": {
          "base_uri": "https://localhost:8080/"
        },
        "id": "5FcxitVf5kdQ",
        "outputId": "1e925e0d-e219-4b93-bd33-8bcbafb393ea"
      },
      "outputs": [
        {
          "data": {
            "text/plain": [
              "True"
            ]
          },
          "execution_count": 4,
          "metadata": {},
          "output_type": "execute_result"
        }
      ],
      "source": [
        "def isHappy(n):\n",
        "  sawones = set() #이미 본 숫자들을 저장하는 임의의 셋\n",
        "  while(n != 1):\n",
        "    if n in sawones: #무한루프를 돌고 있다면, false를 리턴하고 빠져나올것.\n",
        "      return False\n",
        "    sawones.add(n)\n",
        "    n = sum(int(digit)**2 for digit in str(n))\n",
        "\n",
        "  return True\n",
        "\n",
        "\n",
        "num = int(input())\n",
        "isHappy(num)"
      ]
    },
    {
      "cell_type": "markdown",
      "metadata": {
        "id": "eRrh24Ognrqf"
      },
      "source": [
        "**Testcase 1.**\n",
        "\n",
        "**Input**: 19\n",
        "\n",
        "**Output**: True\n",
        "\n",
        "**Explanation**:\n",
        "\n",
        "$1^2 + 9^2 = 82$\n",
        "\n",
        "$8^2 + 2^2 = 68$\n",
        "\n",
        "$6^2 + 8^2 = 100$\n",
        "\n",
        "$1^2 + 0^2 + 0^2 = 1$"
      ]
    },
    {
      "cell_type": "markdown",
      "metadata": {
        "id": "dE7YMY8qoPoj"
      },
      "source": [
        "**Testcase 2.**\n",
        "\n",
        "**Input**: 2\n",
        "\n",
        "**Output**: False"
      ]
    }
  ],
  "metadata": {
    "accelerator": "GPU",
    "colab": {
      "gpuType": "T4",
      "provenance": []
    },
    "kernelspec": {
      "display_name": "Python 3",
      "name": "python3"
    },
    "language_info": {
      "name": "python"
    }
  },
  "nbformat": 4,
  "nbformat_minor": 0
}
